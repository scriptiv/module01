{
 "cells": [
  {
   "cell_type": "code",
   "execution_count": null,
   "id": "d5795088-003d-4ea8-8901-a1c4dee1b478",
   "metadata": {},
   "outputs": [],
   "source": [
    "# 11.1\n",
    "# File: zoo.py\n",
    "def hours():\n",
    "    print(\"Open 9-5 daily\")\n",
    "\n",
    "# Save the file and in the interactive interpreter:\n",
    "# >>> import zoo\n",
    "# >>> zoo.hours()\n",
    "\n",
    "# 11.2\n",
    "# In the interactive interpreter:\n",
    "# >>> import zoo as menagerie\n",
    "# >>> menagerie.hours()\n",
    "\n",
    "# 16.8\n",
    "from sqlalchemy import create_engine, select, Table, MetaData\n",
    "\n",
    "# Connect to the database\n",
    "engine = create_engine(\"sqlite:///books.db\")\n",
    "connection = engine.connect()\n",
    "\n",
    "# Reflect the database schema\n",
    "metadata = MetaData()\n",
    "book = Table('book', metadata, autoload_with=engine)\n",
    "\n",
    "# Query to select and print the 'title' column in alphabetical order\n",
    "stmt = select(book.c.title).order_by(book.c.title)\n",
    "results = connection.execute(stmt)\n",
    "\n",
    "print(\"Book titles in alphabetical order:\")\n",
    "for row in results:\n",
    "    print(row.title)\n",
    "\n",
    "connection.close()"
   ]
  },
  {
   "cell_type": "code",
   "execution_count": null,
   "id": "89f70c3c-0d58-4e8e-af8d-ad4e13f50188",
   "metadata": {},
   "outputs": [],
   "source": []
  }
 ],
 "metadata": {
  "kernelspec": {
   "display_name": "Python 3 (ipykernel)",
   "language": "python",
   "name": "python3"
  },
  "language_info": {
   "codemirror_mode": {
    "name": "ipython",
    "version": 3
   },
   "file_extension": ".py",
   "mimetype": "text/x-python",
   "name": "python",
   "nbconvert_exporter": "python",
   "pygments_lexer": "ipython3",
   "version": "3.12.7"
  }
 },
 "nbformat": 4,
 "nbformat_minor": 5
}
