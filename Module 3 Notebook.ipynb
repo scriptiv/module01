{
 "cells": [
  {
   "cell_type": "code",
   "execution_count": 4,
   "id": "c15404ad-64e1-44fe-a9b9-57420a33addb",
   "metadata": {},
   "outputs": [],
   "source": [
    "#OOP Programming\n",
    "class Solution:\n",
    "    # Function to sort an array of 0s, 1s, and 2s\n",
    "    def sort012(self, arr):\n",
    "        low, mid, high = 0, 0, len(arr) - 1\n",
    "\n",
    "        while mid <= high:\n",
    "            if arr[mid] == 0:\n",
    "                arr[low], arr[mid] = arr[mid], arr[low]\n",
    "                low += 1\n",
    "                mid += 1\n",
    "            elif arr[mid] == 1:\n",
    "                mid += 1\n",
    "            else:  # arr[mid] == 2\n",
    "                arr[mid], arr[high] = arr[high], arr[mid]\n",
    "                high -= 1\n",
    "\n",
    "# Driver Code Starts\n",
    "def main():\n",
    "    t = int(input().strip())  # Read the number of test cases\n",
    "    ob = Solution()\n",
    "\n",
    "    while t > 0:\n",
    "        t -= 1\n",
    "        arr = list(map(int, input().strip().split()))  # Read the array as space-separated integers\n",
    "        ob.sort012(arr)  # Sort the array\n",
    "        print(' '.join(map(str, arr)))  # Print the sorted array\n",
    "\n",
    "if __name__ == \"__main__\":\n",
    "    main()\n",
    "# Driver Code Ends\n",
    "\n",
    "\n",
    "\n",
    "#Function"
   ]
  }
 ],
 "metadata": {
  "kernelspec": {
   "display_name": "Python 3 (ipykernel)",
   "language": "python",
   "name": "python3"
  },
  "language_info": {
   "codemirror_mode": {
    "name": "ipython",
    "version": 3
   },
   "file_extension": ".py",
   "mimetype": "text/x-python",
   "name": "python",
   "nbconvert_exporter": "python",
   "pygments_lexer": "ipython3",
   "version": "3.12.7"
  }
 },
 "nbformat": 4,
 "nbformat_minor": 5
}
