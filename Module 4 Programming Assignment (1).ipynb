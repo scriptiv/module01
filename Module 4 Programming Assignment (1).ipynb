{
 "cells": [
  {
   "cell_type": "code",
   "execution_count": 7,
   "id": "d5795088-003d-4ea8-8901-a1c4dee1b478",
   "metadata": {},
   "outputs": [],
   "source": [
    "# 11.1\n",
    "# File: zoo.py\n",
    "def hours():\n",
    "    print(\"Open 9-5 daily\")\n",
    "\n",
    "# Save the file and in the interactive interpreter:\n",
    "# >>> import zoo\n",
    "# >>> zoo.hours()\n",
    "\n",
    "#11.2\n",
    "#In the interactive interpreter:\n",
    "#>>> import zoo as menagerie\n",
    "#>>> menagerie.hours()\n",
    "\n",
    "#16.8\n",
    "from sqlalchemy import create_engine, Column, String, Integer, Table, MetaData, select, inspect  # Correct inspect import\n",
    "\n",
    "#Connect to the database\n",
    "engine = create_engine(\"sqlite:///books.db\")\n",
    "connection = engine.connect()\n",
    "\n",
    "#Reflect or create the database schema\n",
    "metadata = MetaData()\n",
    "\n",
    "#Check if the 'book' table exists, and create it if necessary\n",
    "inspector = inspect(engine)\n",
    "if not inspector.has_table(\"book\"):\n",
    "    book = Table(\n",
    "        'book', metadata,\n",
    "        Column('id', Integer, primary_key=True, autoincrement=True),\n",
    "        Column('title', String, nullable=False),\n",
    "        Column('author', String, nullable=False),\n",
    "        Column('year', Integer, nullable=False)\n",
    "    )\n",
    "    metadata.create_all(engine)  # Create the table\n",
    "\n",
    "    #Insert sample data\n",
    "    connection.execute(book.insert(), [\n",
    "        {\"title\": \"Book A\", \"author\": \"Author A\", \"year\": 2000},\n",
    "        {\"title\": \"Book B\", \"author\": \"Author B\", \"year\": 1999},\n",
    "        {\"title\": \"Book C\", \"author\": \"Author C\", \"year\": 2021}\n",
    "    ])\n",
    "else:\n",
    "    book = Table('book', metadata, autoload_with=engine)\n",
    "\n",
    "#Query to select and print the 'title' column in alphabetical order\n",
    "stmt = select(book.c.title).order_by(book.c.title)\n",
    "results = connection.execute(stmt)\n",
    "\n",
    "print(\"Book titles in alphabetical order:\")\n",
    "for row in results:\n",
    "    print(row.title)\n",
    "\n",
    "#Close the connection\n",
    "connection.close()"
   ]
  },
  {
   "cell_type": "code",
   "execution_count": null,
   "id": "34f9007c-a54f-402b-9f8f-ae0694bfb181",
   "metadata": {},
   "outputs": [],
   "source": []
  }
 ],
 "metadata": {
  "kernelspec": {
   "display_name": "Python 3 (ipykernel)",
   "language": "python",
   "name": "python3"
  },
  "language_info": {
   "codemirror_mode": {
    "name": "ipython",
    "version": 3
   },
   "file_extension": ".py",
   "mimetype": "text/x-python",
   "name": "python",
   "nbconvert_exporter": "python",
   "pygments_lexer": "ipython3",
   "version": "3.12.7"
  }
 },
 "nbformat": 4,
 "nbformat_minor": 5
}
