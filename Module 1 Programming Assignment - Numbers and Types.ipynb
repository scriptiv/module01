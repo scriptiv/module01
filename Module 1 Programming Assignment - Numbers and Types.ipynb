{
 "cells": [
  {
   "cell_type": "code",
   "execution_count": 19,
   "id": "c5a5273f-7a69-4d6f-ab64-675431548c7e",
   "metadata": {},
   "outputs": [
    {
     "name": "stdout",
     "output_type": "stream",
     "text": [
      "Seconds per hour: 3600\n",
      "Seconds in hour: 3600\n",
      "Total seconds per day: 86400\n",
      "Seconds per day: 86400\n",
      "Floating division result (seconds per day / seconds per hour): 24.0\n",
      "Integer division result (seconds per day // seconds per hour): 24\n"
     ]
    }
   ],
   "source": [
    "#3.1\n",
    "seconds_per_minute = 60\n",
    "minutes_per_hour = 60\n",
    "seconds_per_hour = seconds_per_minute * minutes_per_hour\n",
    "print(\"Seconds per hour:\", seconds_per_hour)\n",
    "\n",
    "#3.2\n",
    "seconds_in_minute = 60\n",
    "minutes_in_hour = 60\n",
    "seconds_in_hour = seconds_in_minute * minutes_in_hour\n",
    "print(\"Seconds in hour:\", seconds_in_hour)\n",
    "\n",
    "#3.3\n",
    "hours_in_day = 24\n",
    "total_seconds_per_day = seconds_per_hour * hours_in_day\n",
    "print(\"Total seconds per day:\", total_seconds_per_day)\n",
    "\n",
    "#3.4\n",
    "seconds_per_day = total_seconds_per_day\n",
    "print(\"Seconds per day:\", seconds_per_day)\n",
    "\n",
    "#3.5\n",
    "floating_division_result = seconds_per_day / seconds_per_hour\n",
    "print(\"Floating division result (seconds per day / seconds per hour):\", floating_division_result)\n",
    "\n",
    "#3.6\n",
    "integer_division_result = seconds_per_day // seconds_per_hour\n",
    "print(\"Integer division result (seconds per day // seconds per hour):\", integer_division_result)"
   ]
  },
  {
   "cell_type": "code",
   "execution_count": null,
   "id": "71456bbd-0bf4-4cb1-9a6b-61dc1e353b44",
   "metadata": {},
   "outputs": [],
   "source": []
  },
  {
   "cell_type": "code",
   "execution_count": null,
   "id": "f62dcc10-9417-423b-90ea-8c6944f46cf2",
   "metadata": {},
   "outputs": [],
   "source": []
  }
 ],
 "metadata": {
  "kernelspec": {
   "display_name": "Python 3 (ipykernel)",
   "language": "python",
   "name": "python3"
  },
  "language_info": {
   "codemirror_mode": {
    "name": "ipython",
    "version": 3
   },
   "file_extension": ".py",
   "mimetype": "text/x-python",
   "name": "python",
   "nbconvert_exporter": "python",
   "pygments_lexer": "ipython3",
   "version": "3.12.7"
  }
 },
 "nbformat": 4,
 "nbformat_minor": 5
}
