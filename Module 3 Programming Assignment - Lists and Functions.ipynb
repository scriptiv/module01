{
 "cells": [
  {
   "cell_type": "code",
   "execution_count": 1,
   "id": "3abafbf1-9a2a-4381-8cc1-7257e2cbbe00",
   "metadata": {},
   "outputs": [
    {
     "name": "stdout",
     "output_type": "stream",
     "text": [
      "Initial list: ['mozzarella', 'cinderella', 'salmonella']\n"
     ]
    }
   ],
   "source": [
    "#7.4\n",
    "things = [\"mozzarella\", \"cinderella\", \"salmonella\"]\n",
    "print(\"Initial list:\", things)"
   ]
  },
  {
   "cell_type": "code",
   "execution_count": 3,
   "id": "50ff6f9d-d562-4834-af68-6eda0872201a",
   "metadata": {},
   "outputs": [
    {
     "name": "stdout",
     "output_type": "stream",
     "text": [
      "After capitalizing 'cinderella': ['mozzarella', 'Cinderella', 'salmonella']\n"
     ]
    }
   ],
   "source": [
    "#7.5\n",
    "things[1] = things[1].capitalize()\n",
    "print(\"After capitalizing 'cinderella':\", things)"
   ]
  },
  {
   "cell_type": "code",
   "execution_count": 4,
   "id": "7ad6d161-b372-4528-a112-3138b6ed5d61",
   "metadata": {},
   "outputs": [
    {
     "name": "stdout",
     "output_type": "stream",
     "text": [
      "After making 'mozzarella' uppercase: ['MOZZARELLA', 'Cinderella', 'salmonella']\n"
     ]
    }
   ],
   "source": [
    "#7.6\n",
    "things[0] = things[0].upper()\n",
    "print(\"After making 'mozzarella' uppercase:\", things)"
   ]
  },
  {
   "cell_type": "code",
   "execution_count": 9,
   "id": "f7f9ed13-5afc-4310-bb07-cec5b4fc4456",
   "metadata": {},
   "outputs": [
    {
     "name": "stdout",
     "output_type": "stream",
     "text": [
      "Good function output: ['Harry', 'Ron', 'Hermione']\n"
     ]
    }
   ],
   "source": [
    "#9.1\n",
    "def good():\n",
    "    return [\"Harry\", \"Ron\", \"Hermione\"]\n",
    "print(\"Good function output:\", good())"
   ]
  },
  {
   "cell_type": "code",
   "execution_count": 8,
   "id": "360ac1b7-ddf6-4d2c-ab2f-c30062085ddf",
   "metadata": {},
   "outputs": [
    {
     "name": "stdout",
     "output_type": "stream",
     "text": [
      "Third odd number: 5\n"
     ]
    }
   ],
   "source": [
    "#9.2\n",
    "def get_odds():\n",
    "    for num in range(10):\n",
    "        if num % 2 != 0:\n",
    "            yield num\n",
    "count = 0\n",
    "for odd in get_odds():\n",
    "    count += 1\n",
    "    if count == 3:\n",
    "        print(\"Third odd number:\", odd)\n",
    "        break"
   ]
  },
  {
   "cell_type": "code",
   "execution_count": null,
   "id": "181abebf-3f55-4105-838b-7114fa8be8b5",
   "metadata": {},
   "outputs": [],
   "source": []
  }
 ],
 "metadata": {
  "kernelspec": {
   "display_name": "Python 3 (ipykernel)",
   "language": "python",
   "name": "python3"
  },
  "language_info": {
   "codemirror_mode": {
    "name": "ipython",
    "version": 3
   },
   "file_extension": ".py",
   "mimetype": "text/x-python",
   "name": "python",
   "nbconvert_exporter": "python",
   "pygments_lexer": "ipython3",
   "version": "3.12.7"
  }
 },
 "nbformat": 4,
 "nbformat_minor": 5
}
